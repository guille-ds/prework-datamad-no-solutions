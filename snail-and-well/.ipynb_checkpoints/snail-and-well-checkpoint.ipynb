{
 "cells": [
  {
   "cell_type": "markdown",
   "metadata": {},
   "source": [
    "# Snail and well\n",
    "\n",
    "A snail falls at the bottom of a 125 cm well. Each day the snail rises 30 cm. But at night, while sleeping, slides 20 cm because the walls are wet. How many days does it take to escape from the well?\n",
    "\n",
    "TIP: http://puzzles.nigelcoldwell.co.uk/sixtytwo.htm"
   ]
  },
  {
   "cell_type": "markdown",
   "metadata": {},
   "source": [
    "## Solución"
   ]
  },
  {
   "cell_type": "code",
   "execution_count": 14,
   "metadata": {},
   "outputs": [
    {
     "name": "stdout",
     "output_type": "stream",
     "text": [
      "11\n"
     ]
    }
   ],
   "source": [
    "# Assign problem data to variables with representative names\n",
    "# well height, daily advance, night retreat, accumulated distance\n",
    "\n",
    "\n",
    "# Assign 0 to the variable that represents the solution\n",
    "\n",
    "\n",
    "# Write the code that solves the problem\n",
    "\n",
    "\n",
    "# Print the result with print('Days =', days)\n",
    "\n",
    "\n",
    "# Assign 0 to the variable that represents the solution\n",
    "\n",
    "\n",
    "\n",
    "# Write the code that solves the problem\n",
    "hday = 30\n",
    "hnight = -20\n",
    "hwell = 125\n",
    "dias = 0\n",
    "h = 0\n",
    "\n",
    "while h < hwell:\n",
    "  h += hday\n",
    "  if h < hwell:\n",
    "    h += hnight\n",
    "  dias += 1\n",
    "\n",
    "print(dias)"
   ]
  },
  {
   "cell_type": "markdown",
   "metadata": {},
   "source": [
    "**Expected output**: \n",
    "```\n",
    "Days = 11\n",
    "```"
   ]
  },
  {
   "cell_type": "markdown",
   "metadata": {},
   "source": [
    "## Goals\n",
    "\n",
    "1. Treatment of variables\n",
    "2. Use of loop **while**\n",
    "3. Use of conditional **if-else**\n",
    "4. Print in console"
   ]
  },
  {
   "cell_type": "markdown",
   "metadata": {},
   "source": [
    "## Bonus\n",
    "The distance traveled by the snail is now defined by a list.\n",
    "```\n",
    "advance_cm = [30, 21, 33, 77, 44, 45, 23, 45, 12, 34, 55]\n",
    "```\n",
    "How long does it take to raise the well?\n",
    "\n",
    "What is its maximum displacement in one day? And its minimum?\n",
    "\n",
    "What is its average speed during the day?\n",
    "\n",
    "What is the standard deviation of its displacement during the day?"
   ]
  },
  {
   "cell_type": "code",
   "execution_count": 8,
   "metadata": {},
   "outputs": [
    {
     "name": "stdout",
     "output_type": "stream",
     "text": [
      "[30, 21, 33, 77, 44, 45, 23, 45, 12, 34, 55]\n",
      "[10, 1, 13, 57, 24, 25, 3, 25, -8, 14, 35]\n",
      "El día 1 sube 30 cm hasta los 30 cm y baja 20 cm, hasta los 10 cm\n",
      "El día 2 sube 21 cm hasta los 31 cm y baja 20 cm, hasta los 11 cm\n",
      "El día 3 sube 33 cm hasta los 44 cm y baja 20 cm, hasta los 24 cm\n",
      "El día 4 sube 77 cm hasta los 101 cm y baja 20 cm, hasta los 81 cm\n",
      "El día 5 sube 44 cm hasta los 125 cm y baja 20 cm, hasta los 105 cm\n",
      "Ha tardado 5 días en subir.\n",
      "[10, 1, 13, 57]\n"
     ]
    }
   ],
   "source": [
    "# Assign problem data to variables with representative names\n",
    "# well height, daily advance, night retreat, accumulated distance\n",
    "\n",
    "hday = [30, 21, 33, 77, 44, 45, 23, 45, 12, 34, 55]\n",
    "hnight = -20\n",
    "hwell = 125\n",
    "\n",
    "h=0\n",
    "i=0\n",
    "listadedias = []\n",
    "dia=1\n",
    "lista = []\n",
    "\n",
    "# Assign 0 to the variable that represents the solution\n",
    "\n",
    "\n",
    "# Write the code that solves the problem\n",
    "\n",
    "for e in hday:\n",
    "  e += hnight\n",
    "  lista.append(e)\n",
    "\n",
    "print (hday)\n",
    "print (lista)\n",
    "\n",
    "while h < hwell:\n",
    "  posicion = h + hday[i] + hnight\n",
    "  h += hday[i]\n",
    "  listadedias.append(1)\n",
    "  \n",
    "  print (\"El día\", dia, \"sube\", hday[i], \"cm hasta los\", h, \"cm y baja\", hnight*(-1), \"cm, hasta los\", posicion, \"cm\")\n",
    "\n",
    "  dia += 1\n",
    "  i += 1\n",
    "  while h < hwell:\n",
    "    h += hnight\n",
    "    if h < hwell:\n",
    "      break\n",
    "print (\"Ha tardado\", len(listadedias), \"días en subir.\")\n",
    "\n",
    "spent=lista[0:len(listadedias)-1]\n",
    "print(spent)\n",
    "\n",
    "spent.append(hday[len(spent)])\n",
    "\n",
    "\n",
    "\n",
    "\n",
    "# Print the result with print('Days =', days)\n",
    "\n"
   ]
  },
  {
   "cell_type": "markdown",
   "metadata": {},
   "source": [
    "**Expected output**: \n",
    "```\n",
    "Days = 6\n",
    "```"
   ]
  },
  {
   "cell_type": "code",
   "execution_count": 3,
   "metadata": {},
   "outputs": [
    {
     "name": "stdout",
     "output_type": "stream",
     "text": [
      "El máximo es 57\n",
      "El minimo es 1\n"
     ]
    }
   ],
   "source": [
    "# What is its maximum displacement in a day? And its minimum?\n",
    "\n",
    "print(\"El máximo es\", max(spent))\n",
    "print(\"El minimo es\", min(spent))"
   ]
  },
  {
   "cell_type": "markdown",
   "metadata": {},
   "source": [
    "**Expected output**: \n",
    "```\n",
    "77 12\n",
    "```"
   ]
  },
  {
   "cell_type": "code",
   "execution_count": 5,
   "metadata": {},
   "outputs": [
    {
     "name": "stdout",
     "output_type": "stream",
     "text": [
      "La suma es 125\n",
      "La media es 25.0\n"
     ]
    }
   ],
   "source": [
    "# What is its average progress?\n",
    "\n",
    "suma = sum(spent)\n",
    "print(\"La suma es\", suma)\n",
    "\n",
    "media = round(suma / len(spent), 2)\n",
    "print(\"La media es\", media)"
   ]
  },
  {
   "cell_type": "markdown",
   "metadata": {},
   "source": [
    "**Expected output**: \n",
    "```\n",
    "38.09090909090909\n",
    "```"
   ]
  },
  {
   "cell_type": "code",
   "execution_count": 6,
   "metadata": {},
   "outputs": [
    {
     "name": "stdout",
     "output_type": "stream",
     "text": [
      "17.159\n"
     ]
    }
   ],
   "source": [
    "# What is the standard deviation of your displacement during the day?\n",
    "import numpy\n",
    "def SD(x):\n",
    "  return round(numpy.std(x), 3)\n",
    "print (SD(lista))"
   ]
  },
  {
   "cell_type": "markdown",
   "metadata": {},
   "source": [
    "**Expected output**: \n",
    "```\n",
    "17.159437082600803\n",
    "```"
   ]
  }
 ],
 "metadata": {
  "kernelspec": {
   "display_name": "Python 3",
   "language": "python",
   "name": "python3"
  },
  "language_info": {
   "codemirror_mode": {
    "name": "ipython",
    "version": 3
   },
   "file_extension": ".py",
   "mimetype": "text/x-python",
   "name": "python",
   "nbconvert_exporter": "python",
   "pygments_lexer": "ipython3",
   "version": "3.7.4"
  }
 },
 "nbformat": 4,
 "nbformat_minor": 2
}
